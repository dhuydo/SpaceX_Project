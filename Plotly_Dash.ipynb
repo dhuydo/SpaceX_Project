{
 "cells": [
  {
   "cell_type": "markdown",
   "id": "cc927cb8-bf18-474e-af9e-bdba388b546a",
   "metadata": {},
   "source": [
    "<div class='alert alert-info' style='margin-top:20px'>\n",
    "    <H1>SPACX LAUNCH PROJECT</H1>\n",
    "</div>"
   ]
  },
  {
   "cell_type": "code",
   "execution_count": 1,
   "id": "ef0bece4-878a-4cc2-a433-941fc4d34e35",
   "metadata": {},
   "outputs": [],
   "source": [
    "import pandas as pd\n",
    "import matplotlib.pyplot as plt\n",
    "import plotly.express as px\n",
    "import dash\n",
    "from dash import html,dcc\n",
    "from dash.dependencies import Input,Output"
   ]
  },
  {
   "cell_type": "code",
   "execution_count": 2,
   "id": "8022cf1c-2a85-4871-9497-717b0c1a3b0c",
   "metadata": {},
   "outputs": [
    {
     "name": "stdout",
     "output_type": "stream",
     "text": [
      "Data is imported to data frame\n"
     ]
    }
   ],
   "source": [
    "url = 'https://cf-courses-data.s3.us.cloud-object-storage.appdomain.cloud/IBM-DS0321EN-SkillsNetwork/datasets/spacex_launch_dash.csv'\n",
    "df = pd.read_csv(url)\n",
    "print('Data is imported to data frame')"
   ]
  },
  {
   "cell_type": "code",
   "execution_count": 3,
   "id": "38d7127b-b7ca-4b77-8487-cf8adabbaacb",
   "metadata": {},
   "outputs": [
    {
     "data": {
      "text/html": [
       "<div>\n",
       "<style scoped>\n",
       "    .dataframe tbody tr th:only-of-type {\n",
       "        vertical-align: middle;\n",
       "    }\n",
       "\n",
       "    .dataframe tbody tr th {\n",
       "        vertical-align: top;\n",
       "    }\n",
       "\n",
       "    .dataframe thead th {\n",
       "        text-align: right;\n",
       "    }\n",
       "</style>\n",
       "<table border=\"1\" class=\"dataframe\">\n",
       "  <thead>\n",
       "    <tr style=\"text-align: right;\">\n",
       "      <th></th>\n",
       "      <th>Unnamed: 0</th>\n",
       "      <th>Flight Number</th>\n",
       "      <th>Launch Site</th>\n",
       "      <th>class</th>\n",
       "      <th>Payload Mass (kg)</th>\n",
       "      <th>Booster Version</th>\n",
       "      <th>Booster Version Category</th>\n",
       "    </tr>\n",
       "  </thead>\n",
       "  <tbody>\n",
       "    <tr>\n",
       "      <th>0</th>\n",
       "      <td>0</td>\n",
       "      <td>1</td>\n",
       "      <td>CCAFS LC-40</td>\n",
       "      <td>0</td>\n",
       "      <td>0.0</td>\n",
       "      <td>F9 v1.0  B0003</td>\n",
       "      <td>v1.0</td>\n",
       "    </tr>\n",
       "    <tr>\n",
       "      <th>1</th>\n",
       "      <td>1</td>\n",
       "      <td>2</td>\n",
       "      <td>CCAFS LC-40</td>\n",
       "      <td>0</td>\n",
       "      <td>0.0</td>\n",
       "      <td>F9 v1.0  B0004</td>\n",
       "      <td>v1.0</td>\n",
       "    </tr>\n",
       "    <tr>\n",
       "      <th>2</th>\n",
       "      <td>2</td>\n",
       "      <td>3</td>\n",
       "      <td>CCAFS LC-40</td>\n",
       "      <td>0</td>\n",
       "      <td>525.0</td>\n",
       "      <td>F9 v1.0  B0005</td>\n",
       "      <td>v1.0</td>\n",
       "    </tr>\n",
       "    <tr>\n",
       "      <th>3</th>\n",
       "      <td>3</td>\n",
       "      <td>4</td>\n",
       "      <td>CCAFS LC-40</td>\n",
       "      <td>0</td>\n",
       "      <td>500.0</td>\n",
       "      <td>F9 v1.0  B0006</td>\n",
       "      <td>v1.0</td>\n",
       "    </tr>\n",
       "    <tr>\n",
       "      <th>4</th>\n",
       "      <td>4</td>\n",
       "      <td>5</td>\n",
       "      <td>CCAFS LC-40</td>\n",
       "      <td>0</td>\n",
       "      <td>677.0</td>\n",
       "      <td>F9 v1.0  B0007</td>\n",
       "      <td>v1.0</td>\n",
       "    </tr>\n",
       "  </tbody>\n",
       "</table>\n",
       "</div>"
      ],
      "text/plain": [
       "   Unnamed: 0  Flight Number  Launch Site  class  Payload Mass (kg)  \\\n",
       "0           0              1  CCAFS LC-40      0                0.0   \n",
       "1           1              2  CCAFS LC-40      0                0.0   \n",
       "2           2              3  CCAFS LC-40      0              525.0   \n",
       "3           3              4  CCAFS LC-40      0              500.0   \n",
       "4           4              5  CCAFS LC-40      0              677.0   \n",
       "\n",
       "  Booster Version Booster Version Category  \n",
       "0  F9 v1.0  B0003                     v1.0  \n",
       "1  F9 v1.0  B0004                     v1.0  \n",
       "2  F9 v1.0  B0005                     v1.0  \n",
       "3  F9 v1.0  B0006                     v1.0  \n",
       "4  F9 v1.0  B0007                     v1.0  "
      ]
     },
     "execution_count": 3,
     "metadata": {},
     "output_type": "execute_result"
    }
   ],
   "source": [
    "df.head()"
   ]
  },
  {
   "cell_type": "code",
   "execution_count": 4,
   "id": "a2e11542-8806-42b8-ae32-af69c80d6c14",
   "metadata": {},
   "outputs": [
    {
     "name": "stdout",
     "output_type": "stream",
     "text": [
      "<class 'pandas.core.frame.DataFrame'>\n",
      "RangeIndex: 56 entries, 0 to 55\n",
      "Data columns (total 7 columns):\n",
      " #   Column                    Non-Null Count  Dtype  \n",
      "---  ------                    --------------  -----  \n",
      " 0   Unnamed: 0                56 non-null     int64  \n",
      " 1   Flight Number             56 non-null     int64  \n",
      " 2   Launch Site               56 non-null     object \n",
      " 3   class                     56 non-null     int64  \n",
      " 4   Payload Mass (kg)         56 non-null     float64\n",
      " 5   Booster Version           56 non-null     object \n",
      " 6   Booster Version Category  56 non-null     object \n",
      "dtypes: float64(1), int64(3), object(3)\n",
      "memory usage: 3.2+ KB\n"
     ]
    }
   ],
   "source": [
    "df.info()"
   ]
  },
  {
   "cell_type": "code",
   "execution_count": 65,
   "id": "4ff87932-33a0-4be5-860a-0b783d5dba75",
   "metadata": {},
   "outputs": [
    {
     "data": {
      "text/html": [
       "\n",
       "        <iframe\n",
       "            width=\"100%\"\n",
       "            height=\"650\"\n",
       "            src=\"http://127.0.0.1:8005/\"\n",
       "            frameborder=\"0\"\n",
       "            allowfullscreen\n",
       "            \n",
       "        ></iframe>\n",
       "        "
      ],
      "text/plain": [
       "<IPython.lib.display.IFrame at 0x128a1b890>"
      ]
     },
     "metadata": {},
     "output_type": "display_data"
    }
   ],
   "source": [
    "# Create dashboard layout\n",
    "app = dash.Dash(__name__)\n",
    "app.layout = html.Div(children=[\n",
    "    html.H1('SpaceX Launch Records Dashboard', style={'textAlign':'center', 'font-size':'40px'}),\n",
    "    html.Div(dcc.Dropdown(id='site-dropdown', options=[\n",
    "        {'label':'All sites', 'value':'All'},\n",
    "        {'label':'CCAFS LC-40', 'value':'CCAFS LC-40'},\n",
    "        {'label':'VAFB SLC-4E', 'value':'VAFB SLC-4E'},\n",
    "        {'label':'KSC LC-39A', 'value':'KSC LC-39A'},\n",
    "        {'label':'CCAFS SLC-40', 'value':'CCAFS SLC-40'}],\n",
    "        placeholder='Select launch site(s)',\n",
    "        value='All',\n",
    "        searchable=True),\n",
    "        style={'font-size':'20px', 'padding':'2px'}),\n",
    "    html.Br(),\n",
    "    html.Br(),\n",
    "    html.Div(dcc.Graph(id='success-pie-chart')),\n",
    "    html.Br(),\n",
    "    html.Br(),\n",
    "    html.Div(dcc.RangeSlider(id='payload-slider', min=0, max=10000, step=1000, value=[0,1000])),\n",
    "    html.Div(dcc.Graph(id='success-payload'))\n",
    "])\n",
    "@app.callback(\n",
    "    Output(component_id='success-pie-chart', component_property='figure'),\n",
    "    Input(component_id='site-dropdown', component_property='value')\n",
    ")\n",
    "def success_launch_bySites(site):\n",
    "    if site=='All':\n",
    "        df_pie = df.groupby('Launch Site')['class'].sum().reset_index()\n",
    "        fig = px.pie(df_pie, values='class', names='Launch Site', title='Total success launch by All Sites')\n",
    "    else:\n",
    "        df_pie = df[df['Launch Site'] == site]['class'].value_counts().reset_index()\n",
    "        fig = px.pie(df_pie, values='count', names=['Unsuccess', 'Success'], \n",
    "                     title='Total success launch by site {}'.format(site))\n",
    "    return fig\n",
    "\n",
    "@app.callback(\n",
    "    Output('success-payload', 'figure'),\n",
    "    [Input('site-dropdown', 'value'), Input('payload-slider', 'value')]\n",
    ")\n",
    "def success_launch_byPayLoad(site, payload):\n",
    "    if site=='All':\n",
    "        fig = px.scatter(df, x='Payload Mass (kg)', y='class', color='Booster Version Category')\n",
    "    else:\n",
    "        df_scatter = df[(df['Launch Site']==site) & [x in range(payload[0], payload[1]) for x in df['Payload Mass (kg)']]]\n",
    "        fig = px.scatter(df_scatter, x='Payload Mass (kg)', y='class', color='Booster Version Category')\n",
    "    return fig\n",
    "    \n",
    "if __name__ == '__main__':\n",
    "    app.run_server(port=8005, host='127.0.0.1', debug=True)\n",
    "                                              "
   ]
  }
 ],
 "metadata": {
  "kernelspec": {
   "display_name": "dhuy",
   "language": "python",
   "name": "dhuy"
  },
  "language_info": {
   "codemirror_mode": {
    "name": "ipython",
    "version": 3
   },
   "file_extension": ".py",
   "mimetype": "text/x-python",
   "name": "python",
   "nbconvert_exporter": "python",
   "pygments_lexer": "ipython3",
   "version": "3.11.5"
  }
 },
 "nbformat": 4,
 "nbformat_minor": 5
}
